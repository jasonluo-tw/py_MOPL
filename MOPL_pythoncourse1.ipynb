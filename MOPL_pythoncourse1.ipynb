{
 "cells": [
  {
   "cell_type": "markdown",
   "metadata": {
    "slideshow": {
     "slide_type": "slide"
    }
   },
   "source": [
    "## Python優缺點  <img style=\"float: left\" src=\"https://i.imgur.com/YvMyftt.png\" width=\"50\">\n",
    "<br>\n",
    "\n",
    "- 免費、開源\n",
    "- 語法非常簡單、優雅，適合剛開始學程式的新手，比起C、JAVA等語言叫簡潔，可謂以一打十。\n",
    "- 應用廣泛，學會python後可以用在網頁設計(Django)、網路爬蟲(Request、beautifulsoup)、漂亮的視覺化(matplotlib、seaborn、plotly)、地圖(basemap、geoscience)、  圖像處理(PIL、opencv)、機器學習(sklearn)、深度學習(tensorflow、pytorch) …超級多你可以做的XDD\n",
    "- 可移植性高\n",
    "- 缺點是執行速度不像C語言、fortran等需編譯的語言來的快"
   ]
  },
  {
   "cell_type": "markdown",
   "metadata": {
    "slideshow": {
     "slide_type": "slide"
    }
   },
   "source": [
    "<img style=\"float: left\" src=\"https://i.imgur.com/lf6vo0Z.png\" width=\"150\"><br>\n",
    "## Anaconda 簡介 \n",
    "- Anaconda是一款由Python和C語言開發而成的資料科學集成式開發環境，可安裝在windows、mac、linux系統上\n",
    "- 開源、免費\n",
    "- jupyter notebook可使用Pyahon、R、Julia語言\n",
    "- 可以使用conda來管理模組及python虛擬環境\n",
    "- 有安裝好jupyter notebook、Spyder等開發環境\n",
    "- 已經預先安裝好常用到的套件"
   ]
  },
  {
   "cell_type": "markdown",
   "metadata": {
    "slideshow": {
     "slide_type": "slide"
    }
   },
   "source": [
    "## Jupyter notebook 簡介\n",
    "<br>\n",
    "<img src=\"https://i.imgur.com/hMUl1Nv.png\" style=\"float:left\" width=\"60%\">"
   ]
  },
  {
   "cell_type": "markdown",
   "metadata": {
    "slideshow": {
     "slide_type": "fragment"
    }
   },
   "source": [
    "使用 ? 表示變數詳細說明 e.g. ?a  \n",
    "使用 ! 表示執行系統指令 e.g. !ls  \n",
    "可使用nb_extension來加強jupyter notebook的功能  \n",
    "[迅速將jupyter notebook轉為slides](https://medium.com/@mjspeck/presenting-code-using-jupyter-notebook-slides-a8a3c3b59d67)"
   ]
  },
  {
   "cell_type": "code",
   "execution_count": 35,
   "metadata": {
    "collapsed": true,
    "slideshow": {
     "slide_type": "notes"
    }
   },
   "outputs": [],
   "source": [
    "a = 'Hello'\n",
    "a?"
   ]
  },
  {
   "cell_type": "markdown",
   "metadata": {
    "slideshow": {
     "slide_type": "slide"
    }
   },
   "source": [
    "## Python: Basic syntax\n",
    "- Python中index都是從0開始\n",
    "- \"#\"符號後是註解(comment)，可以在一列的開頭或中間加入\n",
    "- \"\"\"  \n",
    "使用三個\"，將要註解的地方包起來，變成多行註解  \n",
    "\"\"\"\n",
    "\n",
    "- 變數取名請避開!\n",
    "    - and,exec,not,as,finally,or,assert,for,pass,expcept\n",
    "    - break,from,print,class,global,raise,continue,if,return\n",
    "    - def,import,try,del,in,while,elif,is,with,else,lambda,yield\n",
    "- <p style=\"color: red\">縮排(Indentation)視為不同的block(在判斷式或迴圈的段落中使用...)</p>\n",
    "    - 縮排可以用tab或數個空格(至少一個空格)\n",
    "    - 空格的數量不同，視為不同的block\n",
    "- python的每個變數視為一個object"
   ]
  },
  {
   "cell_type": "code",
   "execution_count": 5,
   "metadata": {
    "slideshow": {
     "slide_type": "subslide"
    }
   },
   "outputs": [
    {
     "name": "stdout",
     "output_type": "stream",
     "text": [
      "True\n"
     ]
    }
   ],
   "source": [
    "# 在這邊的是註解\n",
    "\"\"\"\n",
    "Hello world~~~\n",
    "在這邊的是多行註解\n",
    "\"\"\"\n",
    "# 縮排範例\n",
    "a = 10\n",
    "if a > 5:\n",
    "    print(\"True\")\n",
    "else:\n",
    "    print(\"none\")"
   ]
  },
  {
   "cell_type": "markdown",
   "metadata": {
    "collapsed": true,
    "slideshow": {
     "slide_type": "slide"
    }
   },
   "source": [
    "## 變數型態 (Variables)\n",
    "- 布林(Boolean)  e.g. True/False \n",
    "- 整數(integer)  e.g. 24, 100 轉換成數字: int(a)\n",
    "- 浮點數(float) e.g. 1.2, 3.4 轉換成浮點數: float(a)\n",
    "- 字串(string)，可用單引號或雙引號括住 e.g. \"Hello\", 'Hello' 轉換成字串: str(a)\n",
    "- <p style=\"color:red\">確認變數型態或資料型態可以使用type()指令</p>"
   ]
  },
  {
   "cell_type": "code",
   "execution_count": 12,
   "metadata": {
    "slideshow": {
     "slide_type": "subslide"
    }
   },
   "outputs": [
    {
     "name": "stdout",
     "output_type": "stream",
     "text": [
      "Hello world  TYPE:  <class 'str'>\n"
     ]
    }
   ],
   "source": [
    "vari = 'Hello world'\n",
    "print(vari, ' TYPE: ', type(vari))"
   ]
  },
  {
   "cell_type": "markdown",
   "metadata": {
    "slideshow": {
     "slide_type": "slide"
    }
   },
   "source": [
    "## 常見的資料結構 (Data Structure)\n",
    "### Tuple\n",
    "- 不可更動內容、功能少、占空間少\n",
    "- 創建：使用小括號 ()  e.g. X=(10, 12)\n",
    "- 轉換成list e.g. y = list(X)\n",
    "\n",
    "### List - 串列\n",
    "- 可以放置任何的資料型態\n",
    "- <p style=\"color: red\">list沒有element wise的功能 ! ! !</p>\n",
    "- 創建空List\n",
    "    - sample_list = []\n",
    "    - sample_list = list()\n",
    "    \n",
    "- 初始項目\n",
    "    - sample_list = [10, 'test', 3.14, [10, 12]] (以逗號隔開，資料型態不拘)\n",
    "    - 串列也可以放進串列\n",
    "    \n",
    "- sub-list或是sub-tuple語法類似取出字串局部: x[0:2] 取出index=0, 1的值\n",
    "\n",
    "#### list 的新增\n",
    "- list在最後增加項目: sample_list.append(10)\n",
    "- 在串列最後增加串列: sample_list.extend([10, 12])\n",
    "- 指定位置插入項目: list.insert(index, item)\n",
    "\n",
    "#### list的刪除\n",
    "- 使用del刪除整個list e.g. del sample_list\n",
    "- 刪除指定位置項目: del e.g. del sample_list[1]\n",
    "- 移出(回傳)並刪除list項目: pop(index)\n",
    "- 預設pop()是移出最後一項，若pop(0)則是移出第一項\n",
    "\n",
    "### list的項目位置與排序\n",
    "- 找出第一次出現的位置: list.index(value)\n",
    "- 判斷值是否在list中: value in list\n",
    "- 根據值的內容來排序(sorting): sorted(list)"
   ]
  },
  {
   "cell_type": "code",
   "execution_count": 25,
   "metadata": {
    "slideshow": {
     "slide_type": "subslide"
    }
   },
   "outputs": [
    {
     "name": "stdout",
     "output_type": "stream",
     "text": [
      "[0, 1, [1, 2, 3]]\n",
      "[0, 1, [1, 2, 3], 1, 2, 3]\n",
      "1 2 3\n"
     ]
    }
   ],
   "source": [
    "Alist = [0, 1] # 創建list\n",
    "# append和extend的不同\n",
    "Alist.append([1, 2, 3])\n",
    "print(Alist)\n",
    "Alist.extend([1, 2, 3])\n",
    "print(Alist)\n",
    "## 取出list中的list\n",
    "print(Alist[2][0], Alist[2][1], Alist[2][2])"
   ]
  },
  {
   "cell_type": "code",
   "execution_count": 23,
   "metadata": {
    "slideshow": {
     "slide_type": "skip"
    }
   },
   "outputs": [
    {
     "name": "stdout",
     "output_type": "stream",
     "text": [
      "[1, 2, 3, 1, 2, 3]\n",
      "[1, 2, 3, 1, 2, 3, 1, 2, 3, 1, 2, 3, 1, 2, 3]\n"
     ]
    }
   ],
   "source": [
    "# list 沒有element wise功能\n",
    "# 兩個list 相加\n",
    "Alist = [1, 2, 3]\n",
    "Blist = [1, 2, 3]\n",
    "Clist = Alist + Blist\n",
    "print(Clist)\n",
    "# 一個list乘以某個整數\n",
    "Clist = Alist * 5\n",
    "print(Clist)"
   ]
  },
  {
   "cell_type": "code",
   "execution_count": 26,
   "metadata": {
    "slideshow": {
     "slide_type": "skip"
    }
   },
   "outputs": [
    {
     "name": "stdout",
     "output_type": "stream",
     "text": [
      "[1, 2, 'xx', 3]\n",
      "[1, 2, 3]\n"
     ]
    }
   ],
   "source": [
    "# list inset, pop用法\n",
    "Alist = [1, 2, 3]\n",
    "Alist.insert(2, 'xx')\n",
    "print(Alist)\n",
    "Alist.pop(2)\n",
    "print(Alist)"
   ]
  },
  {
   "cell_type": "code",
   "execution_count": 34,
   "metadata": {
    "scrolled": false
   },
   "outputs": [
    {
     "name": "stdout",
     "output_type": "stream",
     "text": [
      "0\n",
      "True\n",
      "----------------\n",
      "[1, 2, 3]\n",
      "[3, 2, 1]\n",
      "----------------\n",
      "使用list.sort()會讓Alist排序並儲存排序後的樣子\n",
      "[1, 2, 3]\n"
     ]
    }
   ],
   "source": [
    "## list項目位置與排序\n",
    "Alist = [3, 2, 1]\n",
    "print(Alist.index(3))\n",
    "print(2 in Alist)\n",
    "print('----------------')\n",
    "## 排序\n",
    "print(sorted(Alist))\n",
    "print(Alist)\n",
    "print('----------------')\n",
    "print('使用list.sort()會讓Alist排序並儲存排序後的樣子')\n",
    "Alist.sort()\n",
    "print(Alist)"
   ]
  },
  {
   "cell_type": "markdown",
   "metadata": {
    "slideshow": {
     "slide_type": "slide"
    }
   },
   "source": [
    "### Dictionary - 字典\n",
    "- 以key-value(鍵-值) pair形式儲存的資料結構\n",
    "- key必須獨一無二(unique)，若若有重複key會自動覆蓋原key-value pair\n",
    "- 創建：使用大括號{}，內容可存多種資料型態和結構\n",
    "- 取值：dictionary[key]\n",
    "\n",
    "#### 新增與刪除\n",
    "- 新增字典 e.g. dic.update({'a': b}) or dic['a'] = b\n",
    "- 刪除項目：del e.g. del dic['a'], or del dic (刪除整個字典)\n",
    "\n",
    "#### 取值\n",
    "- 判斷項目(key)是否存在於字典：in e.g. 'a' in dic\n",
    "- 獲取字典中的資料(皆非list，可用list()轉換)\n",
    "    - 取得所有的key： dic.keys()\n",
    "    - 取得所有的value：dic.values()\n",
    "    - 取得所有的key-value pair： dic.items()"
   ]
  },
  {
   "cell_type": "code",
   "execution_count": 24,
   "metadata": {},
   "outputs": [
    {
     "name": "stdout",
     "output_type": "stream",
     "text": [
      "15 0\n",
      "dict_keys(['Jason', 'Hello', 'lists', 'World'])\n"
     ]
    }
   ],
   "source": [
    "dicts = {'Jason': 15, 'Hello': 16, 'lists': [0, 1, 2]}\n",
    "jason = dicts['Jason']\n",
    "list0 = dicts['lists'][0]\n",
    "print(jason, list0)\n",
    "dicts.update({'World': 19})\n",
    "all_keys = dicts.keys()\n",
    "print(all_keys)"
   ]
  },
  {
   "cell_type": "markdown",
   "metadata": {
    "collapsed": true,
    "slideshow": {
     "slide_type": "slide"
    }
   },
   "source": [
    "## Arithmetic Operators\n",
    "- 加法 + ， a = a + b → a += b  \n",
    "字串相加: 形成新的字串  \n",
    "x = \"Hello\", y = \"World\" x+y → \"HelloWorld\"\n",
    "\n",
    "- 減法 -, a = a -b → a -= b\n",
    "- 乘法 * x=\"Yo!\" y=x * 3 → \"Yo!Yo!Yo!\"\n",
    "- 除法 / \n",
    "- 次方 **\n",
    "- 取餘數 %\n",
    "- 整除至最近整數 //\n",
    "- 算數運算符號可以有 +=、-=、*=、/=、%=、**=、//=\n",
    "\n",
    "## Python built-in function\n",
    "- sqrt(x)\n",
    "- abs(x)\n",
    "- max(x1, x2, ...)\n",
    "- min(x1, x2, ...)\n",
    "- ceil(x)：無條件進位\n",
    "- floor(x)：無條件捨去\n",
    "- round(x, n)：四捨五入到小數點  \n",
    "下第n位(n可省略)\n",
    "\n",
    "## 下面函數必須先引入math工具才能使用\n",
    "import math  \n",
    "- math.exp(x)  \n",
    "- math.log(x)  \n",
    "- math.log10(x)  \n",
    "- math.cos(x), ...  \n",
    "- math.degrees(x): converts angle x from radians to degrees  \n",
    "- math.radians(x): converts angle x from degrees to radians"
   ]
  },
  {
   "cell_type": "markdown",
   "metadata": {
    "slideshow": {
     "slide_type": "slide"
    }
   },
   "source": [
    "## 字串處理"
   ]
  },
  {
   "cell_type": "code",
   "execution_count": 10,
   "metadata": {
    "slideshow": {
     "slide_type": "subslide"
    }
   },
   "outputs": [
    {
     "name": "stdout",
     "output_type": "stream",
     "text": [
      "Hello world\n",
      "Hell\n",
      "Hello ML\n",
      "Hello world\n"
     ]
    }
   ],
   "source": [
    "s1 = \"Hello world\"\n",
    "s2 = \"ML\"\n",
    "print(s1)\n",
    "print(s1[0:4])\n",
    "print(s1[:6] + s2)\n",
    "print(s1.replace('World', 'Kitty'))"
   ]
  },
  {
   "cell_type": "code",
   "execution_count": 11,
   "metadata": {
    "slideshow": {
     "slide_type": "subslide"
    }
   },
   "outputs": [
    {
     "name": "stdout",
     "output_type": "stream",
     "text": [
      "['Hello', 'World']\n",
      "HELLO WORLD\n",
      "11\n"
     ]
    }
   ],
   "source": [
    "s1 = 'Hello World'\n",
    "print(s1.split()) # default 是空格\n",
    "print(s1.upper())\n",
    "print(len(s1))\n",
    "# other methods: strip(), splitlines(), etc"
   ]
  },
  {
   "cell_type": "markdown",
   "metadata": {
    "slideshow": {
     "slide_type": "subslide"
    }
   },
   "source": [
    "coding style: single quotes v.s. double quotes in Python check out [here](https://stackoverflow.com/questions/56011/single-quotes-vs-double-quotes-in-python)"
   ]
  },
  {
   "cell_type": "markdown",
   "metadata": {
    "slideshow": {
     "slide_type": "slide"
    }
   },
   "source": [
    "## 條件式\n",
    "```python\n",
    "if condition1:\n",
    "    statements\n",
    "elif condition2:\n",
    "    statements\n",
    "else:\n",
    "    statements\n",
    "# 一句條件式\n",
    "a if a > b else b\n",
    "# 或是\n",
    "if a > b: print(a)\n",
    "```\n",
    "\n",
    "- 邏輯判斷符號 ==, !=, >, >=, <, <=\n",
    "- 邏輯運算 and, or, not\n",
    "\n",
    "## 迴圈\n",
    "```python\n",
    "# while 迴圈\n",
    "while condition:\n",
    "    statements\n",
    "\n",
    "## 最一般的for迴圈\n",
    "# range經常用來控制迴圈次數 \n",
    "# range(n) 從0到(n-1)\n",
    "# range(nmin,nmax,interval) 從nmin到nmax-1\n",
    "\n",
    "for i in range(10):  \n",
    "    statements\n",
    "## 或是直接迴圈list\n",
    "for data in Alists:\n",
    "    statements\n",
    "## 或是使用enumerate\n",
    "for index, data in enumerate(Alists):\n",
    "    statements\n",
    "## 有多個list要迴圈時可使用zip\n",
    "for i, j in zip(a,b):\n",
    "    statements\n",
    "## reverse number\n",
    "for i in reversed(range(5)):\n",
    "    statements\n",
    "## 特別的for寫法\n",
    "listA = [i for i in range(10)]\n",
    "```\n",
    "可以使用tqdm模組來出現bar條"
   ]
  },
  {
   "cell_type": "code",
   "execution_count": 1,
   "metadata": {
    "scrolled": true,
    "slideshow": {
     "slide_type": "skip"
    }
   },
   "outputs": [
    {
     "name": "stderr",
     "output_type": "stream",
     "text": [
      "100%|████████████████████████████████████████████████████████████████████████████████████████| 100/100 [00:00<?, ?it/s]\n"
     ]
    },
    {
     "name": "stdout",
     "output_type": "stream",
     "text": [
      "[0, 1, 2, 3, 4, 5, 6, 7, 8, 9]\n"
     ]
    }
   ],
   "source": [
    "# tqdm example\n",
    "from tqdm import tqdm\n",
    "for i in tqdm(range(100)):\n",
    "    pass\n",
    "\n",
    "Alist = [i for i in range(10)]\n",
    "print(Alist)"
   ]
  },
  {
   "cell_type": "markdown",
   "metadata": {
    "slideshow": {
     "slide_type": "slide"
    }
   },
   "source": [
    "## <div style=\"color:red\">Exceptions Handling (python中特有的)</div>"
   ]
  },
  {
   "cell_type": "code",
   "execution_count": 27,
   "metadata": {
    "slideshow": {
     "slide_type": "subslide"
    }
   },
   "outputs": [
    {
     "name": "stdout",
     "output_type": "stream",
     "text": [
      "Error: zero division\n",
      "Done\n"
     ]
    }
   ],
   "source": [
    "x = 1\n",
    "y = 0\n",
    "try:\n",
    "    x / y\n",
    "except ZeroDivisionError:  # ZeroDivisionError 不一定要寫，寫了是讓exception更清楚\n",
    "    print('Error: zero division')\n",
    "else:\n",
    "    print('Result: ' + str(x/y) + ' (without error)')\n",
    "finally:\n",
    "    print('Done')"
   ]
  },
  {
   "cell_type": "markdown",
   "metadata": {
    "slideshow": {
     "slide_type": "slide"
    }
   },
   "source": [
    "## Import module\n",
    "<p style=\"color: red; font-size: 16px\">很重要的指令，因為python非常常引入模組</p>\n",
    "\n",
    "### 使用方法:\n",
    "- import numpy\n",
    "- import numpy as np，之後就使用縮寫np.cos\n",
    "- from numpy import cos\n",
    "- from numpy import * # import所有numpy模組，不建議使用，import需要的模組就好"
   ]
  },
  {
   "cell_type": "markdown",
   "metadata": {
    "slideshow": {
     "slide_type": "slide"
    }
   },
   "source": [
    "## Numpy\n",
    "[Numpy Reference](https://docs.scipy.org/doc/numpy-1.13.0/user/index.html)\n",
    "\n",
    "NumPy is powerful package for scientific computing with Python. It contains among other things:\n",
    "\n",
    "- a powerful N-dimensional array object\n",
    "- sophisticated (broadcasting) functions\n",
    "- tools for integrating C/C++ and Fortran code\n",
    "- useful linear algebra, Fourier transform, and random number capabilities...\n",
    "- In this class, we will mainly introduce the NumPy \"array\" features, plus a few mathematical functions. Before we use the NumPy - array in the python code, we need to first \"import\" the NumPy toolbox\n",
    "\n",
    "NumPy是一個針對科學運算開發的python工具庫，提供方便的陣列功能與數學運算工具。 要使用NumPy相關的指令前，要先引入(啟動)NumPy"
   ]
  },
  {
   "cell_type": "code",
   "execution_count": 13,
   "metadata": {
    "slideshow": {
     "slide_type": "subslide"
    }
   },
   "outputs": [
    {
     "name": "stdout",
     "output_type": "stream",
     "text": [
      "[0 1 2 3]\n"
     ]
    }
   ],
   "source": [
    "import numpy\n",
    "# import numpy as np\n",
    "A=numpy.arange(4)  # 引進numpy，可以開始用numpy相關的指令\n",
    "print(A)"
   ]
  },
  {
   "cell_type": "markdown",
   "metadata": {
    "slideshow": {
     "slide_type": "slide"
    }
   },
   "source": [
    "## NumPy建立陣列的幾種方法\n"
   ]
  },
  {
   "cell_type": "code",
   "execution_count": 15,
   "metadata": {
    "slideshow": {
     "slide_type": "subslide"
    }
   },
   "outputs": [
    {
     "name": "stdout",
     "output_type": "stream",
     "text": [
      "[1 2 3]\n",
      "(3,) (3, 3)\n"
     ]
    }
   ],
   "source": [
    "import numpy as np\n",
    "# list to array\n",
    "Alist = [1, 2, 3]\n",
    "Alist = np.array(Alist)\n",
    "\n",
    "#np.array  創造新陣列\n",
    "A = np.array([1,2,3])   # 1-D陣列\n",
    "B = np.array([[1,2,3],[4,5,6],[7,8,9]]) # 2-D陣列\n",
    "\n",
    "print(A)\n",
    "print(A.shape, B.shape)  # checking the size in each dimension of the array"
   ]
  },
  {
   "cell_type": "code",
   "execution_count": 17,
   "metadata": {
    "slideshow": {
     "slide_type": "subslide"
    }
   },
   "outputs": [
    {
     "name": "stdout",
     "output_type": "stream",
     "text": [
      "[1 2 3]\n",
      "[3 6 9]\n",
      "[[1 2]\n",
      " [4 5]]\n"
     ]
    }
   ],
   "source": [
    "# show only a sub-set of A\n",
    "print(A)\n",
    "print(B[:,2])      # the entire third column of A\n",
    "print(B[0:2,0:2])  # first two column of the top two rows"
   ]
  },
  {
   "cell_type": "code",
   "execution_count": 18,
   "metadata": {
    "slideshow": {
     "slide_type": "subslide"
    }
   },
   "outputs": [
    {
     "name": "stdout",
     "output_type": "stream",
     "text": [
      "[[0 0]\n",
      " [0 0]\n",
      " [0 0]]\n"
     ]
    }
   ],
   "source": [
    "c=np.zeros((3,2),dtype=int)  # 創造3x2的陣列，所有元素為整數0\n",
    "print(c)"
   ]
  },
  {
   "cell_type": "code",
   "execution_count": null,
   "metadata": {
    "collapsed": true,
    "slideshow": {
     "slide_type": "subslide"
    }
   },
   "outputs": [],
   "source": [
    "# np.arange(end) or np.arange(start,end,interval) (default start=0, interval=1)\n",
    "\n",
    "A=np.arange(10)     # 只給一個數值的話，代表從0開始，到給定的數值之間、間隔為1的一串整數\n",
    "print(A)\n",
    "B=np.arange(1,10)   # 開始與結束之間、間隔為1的一串整數\n",
    "print(B)\n",
    "C=np.arange(1,10,2) # 開始與結束之間、用指定的間隔產生一串整數\n",
    "print(C)"
   ]
  },
  {
   "cell_type": "code",
   "execution_count": 19,
   "metadata": {
    "slideshow": {
     "slide_type": "subslide"
    }
   },
   "outputs": [
    {
     "name": "stdout",
     "output_type": "stream",
     "text": [
      "[  1.           1.18367347   1.36734694   1.55102041   1.73469388\n",
      "   1.91836735   2.10204082   2.28571429   2.46938776   2.65306122\n",
      "   2.83673469   3.02040816   3.20408163   3.3877551    3.57142857\n",
      "   3.75510204   3.93877551   4.12244898   4.30612245   4.48979592\n",
      "   4.67346939   4.85714286   5.04081633   5.2244898    5.40816327\n",
      "   5.59183673   5.7755102    5.95918367   6.14285714   6.32653061\n",
      "   6.51020408   6.69387755   6.87755102   7.06122449   7.24489796\n",
      "   7.42857143   7.6122449    7.79591837   7.97959184   8.16326531\n",
      "   8.34693878   8.53061224   8.71428571   8.89795918   9.08163265\n",
      "   9.26530612   9.44897959   9.63265306   9.81632653  10.        ]\n",
      "[  1.   2.   3.   4.   5.   6.   7.   8.   9.  10.]\n"
     ]
    }
   ],
   "source": [
    "# np.linspace(start,end,n) # 在起始與結束的數值之間，均分成n等分的一串數值\n",
    "\n",
    "A = np.linspace(1,10)    # default n=50\n",
    "print(A)\n",
    "B = np.linspace(1, 10 , 10)\n",
    "print(B)"
   ]
  },
  {
   "cell_type": "markdown",
   "metadata": {
    "slideshow": {
     "slide_type": "slide"
    }
   },
   "source": [
    "## NumPy 陣列運算\n",
    "<p style=\"color:red; font-size: 20px\">list中不能做element wise運算的問題</p>\n",
    "\n",
    "陣列的加減乘除（+ - * /）、內建基本數學函數（sine, cosine, exponential, log...）\n",
    "\n",
    "Note:\n",
    "\n",
    "- math library的sin, cos, exp...等函數，不能使用在array上，因此要使用Numpy提供的函數\n",
    "- ' * ' means element-wise multiplication for arrays (相同位置的元素相乘)\n",
    "- np.dot() is used for matrix multiplication \n",
    "\n",
    "[矩陣乘積--行與列相乘相加](https://en.wikipedia.org/wiki/Matrix_multiplication#Illustration)"
   ]
  },
  {
   "cell_type": "code",
   "execution_count": null,
   "metadata": {
    "collapsed": true,
    "slideshow": {
     "slide_type": "subslide"
    }
   },
   "outputs": [],
   "source": [
    "c=np.array([[1, 0], [0, 1]])\n",
    "print(c)\n",
    "d=np.array([[4, 1], [2, 2]])\n",
    "print(d)\n",
    "\n",
    "B=np.dot(c,d)  # matrix multiplication of two 2D arrays\n",
    "print(B)"
   ]
  },
  {
   "cell_type": "code",
   "execution_count": null,
   "metadata": {
    "collapsed": true,
    "slideshow": {
     "slide_type": "subslide"
    }
   },
   "outputs": [],
   "source": [
    "# Example of basic math functions for numpy arrays\n",
    "A=np.linspace(0,np.pi,6)  # generage a 6x1 array between 0 and pi\n",
    "print(A)\n",
    "\n",
    "B=np.cos(A)  # cosine (similar for sin, tan...)\n",
    "print(B)\n",
    "\n",
    "C=np.exp(A)  # exponential\n",
    "print(C)\n",
    "\n",
    "D=np.log(C)  # natural log\n",
    "print(D)"
   ]
  },
  {
   "cell_type": "markdown",
   "metadata": {
    "slideshow": {
     "slide_type": "slide"
    }
   },
   "source": [
    "## NumPy陣列的基本操作\n",
    "- np.reshape\n",
    "- np.transpose\n",
    "- np.tile\n",
    "- np.hstack, np.vstack\n",
    "- np.columnstack"
   ]
  },
  {
   "cell_type": "code",
   "execution_count": null,
   "metadata": {
    "collapsed": true,
    "slideshow": {
     "slide_type": "subslide"
    }
   },
   "outputs": [],
   "source": [
    "#np.reshape  改變\"形狀\" (將 ixj的陣列變形為mxn， 但必須滿足 ixj = mxn)\n",
    "A=np.arange(4)\n",
    "print(A)\n",
    "B= np.arange(4).reshape((2,2))  #將 1x4 陣列變成 2x2\n",
    "print(B)"
   ]
  },
  {
   "cell_type": "code",
   "execution_count": null,
   "metadata": {
    "collapsed": true,
    "slideshow": {
     "slide_type": "subslide"
    }
   },
   "outputs": [],
   "source": [
    "#np.transpose 轉置 (維度交換)\n",
    "C=np.transpose(B)\n",
    "print(C)"
   ]
  },
  {
   "cell_type": "code",
   "execution_count": null,
   "metadata": {
    "collapsed": true,
    "slideshow": {
     "slide_type": "subslide"
    }
   },
   "outputs": [],
   "source": [
    "# np.tile(array,n) or np.tile(array,(n,m))     # 陣列自我複製\n",
    "D=np.tile(A,4)      # 陣列自我複製 1xn次\n",
    "print(D)\n",
    "E=np.tile(A,(4,2))  # 陣列自我複製 nxm 次 (n是垂直方向重複次數，m是水平方向重複次數)\n",
    "print(E)"
   ]
  },
  {
   "cell_type": "code",
   "execution_count": null,
   "metadata": {
    "collapsed": true,
    "slideshow": {
     "slide_type": "subslide"
    }
   },
   "outputs": [],
   "source": [
    "# np.hstack  np.vstack     # 不同陣列堆疊(維度大小要相合)\n",
    "a = np.array([1,2,3])\n",
    "b = np.array([4,5,6])\n",
    "c= np.hstack((a,b))\n",
    "print(c)\n",
    "\n",
    "d= np.vstack((a,b))\n",
    "print(d)"
   ]
  },
  {
   "cell_type": "code",
   "execution_count": null,
   "metadata": {
    "collapsed": true,
    "slideshow": {
     "slide_type": "subslide"
    }
   },
   "outputs": [],
   "source": [
    " # 維度大小不合的陣列無法堆疊\n",
    "d= np.vstack((a,c))\n",
    "print(d)"
   ]
  },
  {
   "cell_type": "code",
   "execution_count": null,
   "metadata": {
    "collapsed": true,
    "slideshow": {
     "slide_type": "subslide"
    }
   },
   "outputs": [],
   "source": [
    "np.column_stack # 將數個1D陣列以直行排列成二維 combine multiple 1-D arrays as columns to form a 2-D array\n",
    "e= np.column_stack((a,b,a,b))\n",
    "print(e)"
   ]
  }
 ],
 "metadata": {
  "kernelspec": {
   "display_name": "Python 3",
   "language": "python",
   "name": "python3"
  },
  "language_info": {
   "codemirror_mode": {
    "name": "ipython",
    "version": 3
   },
   "file_extension": ".py",
   "mimetype": "text/x-python",
   "name": "python",
   "nbconvert_exporter": "python",
   "pygments_lexer": "ipython3",
   "version": "3.7.1"
  }
 },
 "nbformat": 4,
 "nbformat_minor": 2
}
