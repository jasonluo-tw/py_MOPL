{
 "cells": [
  {
   "cell_type": "markdown",
   "metadata": {},
   "source": [
    "## File IO 檔案讀寫\n",
    "這邊介紹python 內建的開啟檔案與檔案讀寫指令，在處理文字為主的檔案時比較方便\n",
    "\n",
    "## open()打開檔案\n",
    "Before you read or write a file using the python built-in read/write function, you need to \"open\" the file first.\n",
    "\n",
    "fo = open('filename', 'open_mode_option')\n",
    "\n",
    "(fo可以是自己決定的變數名稱，指向被開啟的檔案，稱為fileObject，後續讀取檔案的時候會使用到)\n",
    "\n",
    "針對文字檔，幾種比較常用到的open mode options:\n",
    "\n",
    "- r : 只讀檔，檔案要先存在，從頭開始讀\n",
    "- r+ : 可讀可寫，檔案要先存在，從頭開始讀。\n",
    "- w : 只可寫出，從頭覆蓋既有檔案，檔案如果不存在就新增。\n",
    "- w+ : 可讀可寫，從頭覆蓋既有檔案，檔案不存在就新增。\n",
    "- a : 接續既有檔案寫出，檔案不存在就新增。\n",
    "- a+ : 接續既有檔案寫出與讀取，檔案不存在就新增。\n",
    "\n",
    "[其他的open mode options可以在這邊找到](https://docs.python.org/2/library/functions.html#open)"
   ]
  },
  {
   "cell_type": "markdown",
   "metadata": {},
   "source": [
    "## Example of opening a file, and checking its status"
   ]
  },
  {
   "cell_type": "code",
   "execution_count": 7,
   "metadata": {},
   "outputs": [
    {
     "name": "stdout",
     "output_type": "stream",
     "text": [
      "Name of the file:  foo.txt\n",
      "Opening mode :  w\n",
      "Closed or not :  False\n"
     ]
    }
   ],
   "source": [
    "# Open a file\n",
    "fo = open(\"foo.txt\", \"w\")              # Open for writing only. Overwrites existing file.\n",
    "print(\"Name of the file: \", fo.name)    # Let's check if the file name is correct\n",
    "print(\"Opening mode : \", fo.mode)       # Check the read/write/binary mode status\n",
    "print(\"Closed or not : \", fo.closed)    # Check the open/close status"
   ]
  },
  {
   "cell_type": "markdown",
   "metadata": {},
   "source": [
    "## close() 關閉檔案"
   ]
  },
  {
   "cell_type": "code",
   "execution_count": 8,
   "metadata": {},
   "outputs": [
    {
     "name": "stdout",
     "output_type": "stream",
     "text": [
      "Closed or not :  False\n",
      "Closed or not :  True\n"
     ]
    }
   ],
   "source": [
    "# Open a file\n",
    "fo = open(\"foo.txt\", \"w\")\n",
    "print(\"Closed or not : \", fo.closed)    # Check the open/close status\n",
    "\n",
    "# Close opend file\n",
    "fo.close()\n",
    "print(\"Closed or not : \", fo.closed)    # Check the open/close status again"
   ]
  },
  {
   "cell_type": "markdown",
   "metadata": {},
   "source": [
    "## write() 輸出到檔案"
   ]
  },
  {
   "cell_type": "code",
   "execution_count": 9,
   "metadata": {
    "collapsed": true
   },
   "outputs": [],
   "source": [
    "# Open a file\n",
    "fo = open(\"foo.txt\", \"w\")   # open for writing only\n",
    "fo.write(\"This is the first output.\")  # output string to the file. \n",
    "# As no \\n is included at the end of the string , \n",
    "# the next __write()__ will continue to output to the same line.\n",
    "\n",
    "fo.write(\"This is the second output.\\n\")  # Continue the first line.\n",
    "# A \\n is included at the end. The next __write()__ will start a new line\n",
    "\n",
    "fo.write(\"Python is a great language.\\nYeah its great!!\\n\")  #write two new lines to the file\n",
    "\n",
    "# Close opend file\n",
    "fo.close()"
   ]
  },
  {
   "cell_type": "markdown",
   "metadata": {},
   "source": [
    "## read() 讀取檔案"
   ]
  },
  {
   "cell_type": "code",
   "execution_count": 10,
   "metadata": {},
   "outputs": [
    {
     "name": "stdout",
     "output_type": "stream",
     "text": [
      "This is\n",
      " the first\n"
     ]
    }
   ],
   "source": [
    "fo = open(\"foo.txt\", \"r+\")  # open for readingly only; read from the beginning\n",
    "A=fo.read(7)\n",
    "print(A)\n",
    "B=fo.read(10)\n",
    "print(B)"
   ]
  },
  {
   "cell_type": "markdown",
   "metadata": {},
   "source": [
    "## readline and readlines 單列或多列讀取"
   ]
  },
  {
   "cell_type": "code",
   "execution_count": 11,
   "metadata": {},
   "outputs": [
    {
     "name": "stdout",
     "output_type": "stream",
     "text": [
      "This is the first output.This is the second output.\n",
      "\n",
      "2\n",
      "['Python is a great language.\\n', 'Yeah its great!!\\n']\n",
      "Yeah its great!!\n",
      "\n"
     ]
    }
   ],
   "source": [
    "fo = open(\"foo.txt\", \"r+\")  # open for readingly only; read from the beginning\n",
    "A=fo.readline()  # read only the first line in the file\n",
    "print(A)\n",
    "\n",
    "B=fo.readlines() # read the rest of the file (2nd~3rd lines) as a python list\n",
    "print(len(B))    # checking the size of the list\n",
    "print(B)         # the elements are separated by'\\n' in the string\n",
    "print(B[1])      # the second element in the list"
   ]
  },
  {
   "cell_type": "markdown",
   "metadata": {},
   "source": [
    "## readline搭配split分割字串"
   ]
  },
  {
   "cell_type": "code",
   "execution_count": 14,
   "metadata": {},
   "outputs": [
    {
     "name": "stdout",
     "output_type": "stream",
     "text": [
      "This is the first output.This is the second output.\n",
      "\n",
      "['This', 'is', 'the', 'first', 'output.This', 'is', 'the', 'second', 'output.\\n']\n",
      "Yeah its great!!\n",
      "\n",
      "['Yeah', 'its', 'great!!\\n']\n",
      "Yeah\n"
     ]
    }
   ],
   "source": [
    "fo = open(\"foo.txt\", \"r+\")  # open for readingly only; read from the beginning\n",
    "A=fo.readline()  # read only the first line in the file\n",
    "print(A)\n",
    "As=A.split(' ')\n",
    "print(As)\n",
    "\n",
    "B=fo.readlines()\n",
    "print(B[1])\n",
    "Bs=B[1].split(' ')\n",
    "print(Bs)\n",
    "print(Bs[0])"
   ]
  },
  {
   "cell_type": "markdown",
   "metadata": {},
   "source": [
    "## 其他讀寫檔案方式 請自行學習\n",
    "- 利用pandas讀寫檔案(csv)，讀檔的話讀進來就變成DataFrame格式\n",
    "- 利用np.loadtxt, np.savetxt\n",
    "- 利用csv模組讀寫檔案\n",
    "- 使用pickle直接將資料結構儲存起來"
   ]
  },
  {
   "cell_type": "markdown",
   "metadata": {},
   "source": [
    "### 小練習\n",
    "資料夾中有一個words.txt的檔案大家可以嘗試去讀檔案並將檔案中的英文字計算出現次數後做排序(先出現在文章中的排在前面)，之後輸出到另一個.txt檔中，格式如下:\n",
    "\n",
    "詞，index，出現次數\n",
    "```\n",
    "Singaporeans 0 2  \n",
    "were 1 1  \n",
    "meant 2 1\n",
    "to 3 18\n",
    "go 4 1\n",
    "the 5 29\n",
    "polls 6 1\n",
    "at 7 3\n",
    "end 8 1\n",
    "of 9 14\n",
    "next 10 1\n",
    "week 11 1\n",
    "vote 12 1\n",
    "for 13 8\n",
    "a 14 13\n",
    "new 15 6\n",
    "president 16 4\n",
    "but 17 3\n",
    "theyll 18 1\n",
    "no 19 2\n",
    "longer 20 1\n",
    "...\n",
    "```\n",
    "### 小練習2\n",
    "讀取201409220900_ROBS.txt檔案，**並將////改為-999.**，注意前面幾行要略過，還有最後一行也要拿掉"
   ]
  },
  {
   "cell_type": "code",
   "execution_count": null,
   "metadata": {},
   "outputs": [],
   "source": []
  }
 ],
 "metadata": {
  "kernelspec": {
   "display_name": "Python 3",
   "language": "python",
   "name": "python3"
  },
  "language_info": {
   "codemirror_mode": {
    "name": "ipython",
    "version": 3
   },
   "file_extension": ".py",
   "mimetype": "text/x-python",
   "name": "python",
   "nbconvert_exporter": "python",
   "pygments_lexer": "ipython3",
   "version": "3.7.1"
  }
 },
 "nbformat": 4,
 "nbformat_minor": 2
}
