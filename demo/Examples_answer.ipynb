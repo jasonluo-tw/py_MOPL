{
 "cells": [
  {
   "cell_type": "markdown",
   "metadata": {},
   "source": [
    "## Example 1"
   ]
  },
  {
   "cell_type": "code",
   "execution_count": 13,
   "metadata": {
    "collapsed": true
   },
   "outputs": [],
   "source": [
    "import numpy as np\n",
    "f = open('./words.txt', 'r')\n",
    "words = f.read().split()\n",
    "f.close()"
   ]
  },
  {
   "cell_type": "code",
   "execution_count": 14,
   "metadata": {
    "collapsed": true
   },
   "outputs": [],
   "source": [
    "dicts = {}\n",
    "dicts_list = []\n",
    "for word in words:\n",
    "    if word not in dicts_list:\n",
    "        dicts[word] = 1\n",
    "        dicts_list.append(word)\n",
    "    else:\n",
    "        dicts[word] = dicts[word] + 1\n"
   ]
  },
  {
   "cell_type": "code",
   "execution_count": 15,
   "metadata": {
    "collapsed": true
   },
   "outputs": [],
   "source": [
    "f = open('write_results.txt', 'w')\n",
    "for index, word in enumerate(dicts_list):\n",
    "    f.write(word+' '+str(index)+' '+str(dicts[word])+'\\n')"
   ]
  },
  {
   "cell_type": "code",
   "execution_count": 16,
   "metadata": {
    "collapsed": true
   },
   "outputs": [],
   "source": [
    "f.close()"
   ]
  },
  {
   "cell_type": "markdown",
   "metadata": {
    "collapsed": true
   },
   "source": [
    "## Example 2"
   ]
  },
  {
   "cell_type": "code",
   "execution_count": 8,
   "metadata": {},
   "outputs": [],
   "source": [
    "f = open('./201409220900_ROBS.txt', 'r')\n",
    "raw_datas = f.readlines()\n",
    "f.close()\n",
    "\n",
    "## process the datas\n",
    "datas = []\n",
    "for row in raw_datas[4:-1]:\n",
    "    row_data = []\n",
    "    paras = row.split()\n",
    "    for i in paras:\n",
    "        try:\n",
    "            row_data.append(float(i))\n",
    "        except:\n",
    "            row_data.append(-999.)\n",
    "            \n",
    "    datas.append(row_data)"
   ]
  },
  {
   "cell_type": "code",
   "execution_count": null,
   "metadata": {
    "collapsed": true
   },
   "outputs": [],
   "source": []
  }
 ],
 "metadata": {
  "kernelspec": {
   "display_name": "Python 3",
   "language": "python",
   "name": "python3"
  },
  "language_info": {
   "codemirror_mode": {
    "name": "ipython",
    "version": 3
   },
   "file_extension": ".py",
   "mimetype": "text/x-python",
   "name": "python",
   "nbconvert_exporter": "python",
   "pygments_lexer": "ipython3",
   "version": "3.6.2"
  }
 },
 "nbformat": 4,
 "nbformat_minor": 2
}
