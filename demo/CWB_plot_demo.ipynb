{
 "cells": [
  {
   "cell_type": "code",
   "execution_count": 1,
   "metadata": {
    "collapsed": true
   },
   "outputs": [],
   "source": [
    "import requests\n",
    "from bs4 import BeautifulSoup\n",
    "import pandas as pd\n",
    "import numpy as np\n",
    "import matplotlib.pyplot as plt\n",
    "plt.rcParams['font.family']=['DFKai-SB']\n",
    "%matplotlib inline"
   ]
  },
  {
   "cell_type": "code",
   "execution_count": 2,
   "metadata": {
    "collapsed": true
   },
   "outputs": [],
   "source": [
    "def is_number(s):\n",
    "    try:\n",
    "        float(s)\n",
    "        return float(s)\n",
    "    except ValueError:\n",
    "        return s"
   ]
  },
  {
   "cell_type": "code",
   "execution_count": 3,
   "metadata": {
    "collapsed": true
   },
   "outputs": [],
   "source": [
    "station = ''\n",
    "def plot_time_choose(values, sta_now):\n",
    "    global station\n",
    "    global datas\n",
    "    if sta_now != station:\n",
    "        BaseURL = 'https://www.cwb.gov.tw/V7/observe/24real/Data/'+str(sta_now)+'.htm'\n",
    "        res = requests.get(BaseURL)\n",
    "        res.encoding = 'utf-8'\n",
    "        #print(\"encoding: %s\" % res.encoding)\n",
    "        A = res.text\n",
    "        soup = BeautifulSoup(A,'html.parser')\n",
    "        srcs = soup.select(\"table.BoxTable > tr\")\n",
    "        col_names = [i.get_text() for i in srcs[0].select('th')]\n",
    "        datas = pd.DataFrame(np.zeros((len(srcs)-1, len(col_names))), columns=col_names)\n",
    "        date_index = []\n",
    "\n",
    "        for index, row in enumerate(srcs[len(srcs):0:-1]):\n",
    "            for jindex, col in enumerate(row):\n",
    "\n",
    "                datas.iloc[index, jindex] = np.nan if is_number(col.get_text()) == '-' else is_number(col.get_text())\n",
    "\n",
    "        datas = datas.set_index(['觀測時間'])\n",
    "        #datas = datas.set_index(pd.to_datetime(datas.index, format='%m/%d %H:%M'))\n",
    "        station = sta_now\n",
    "        \n",
    "    ## Start to plot\n",
    "    aa = datas[['溫度(°C>>°F)', '相對溼度(%)', '當日累積雨量(毫米)']]\n",
    "    start = values[0]\n",
    "    end = values[1]\n",
    "    print(start, end)\n",
    "    try:\n",
    "        cc = aa.iloc[int(start):int(end)]\n",
    "        cc.plot(subplots=True, figsize=(10, 6))\n",
    "        plt.xticks(rotation=45)\n",
    "        plt.show()\n",
    "    except:\n",
    "        print('end is smaller than start or equal to start, or no numerical to plot')"
   ]
  },
  {
   "cell_type": "code",
   "execution_count": 4,
   "metadata": {},
   "outputs": [
    {
     "data": {
      "application/vnd.jupyter.widget-view+json": {
       "model_id": "00df4076a6554d6380e14c1e9d1b7cb9"
      }
     },
     "metadata": {},
     "output_type": "display_data"
    },
    {
     "data": {
      "text/plain": [
       "<function __main__.plot_time_choose>"
      ]
     },
     "execution_count": 4,
     "metadata": {},
     "output_type": "execute_result"
    }
   ],
   "source": [
    "import ipywidgets as widgets\n",
    "widgets.interact(plot_time_choose,\n",
    "    values = widgets.IntRangeSlider(value=[0, 150], min=0, max=150, step=1,\n",
    "    description='Range:', disabled=False, continuous_update=True, orientation='horizontal'),\n",
    "                 \n",
    "    sta_now = widgets.Dropdown(options={'鞍部': '46691', '台北': '46692', '信義': 'C0AC7', '台中': '46749', '高雄': '46744'}, \n",
    "                               value='46692', description='測站:', disabled=False)\n",
    ")"
   ]
  },
  {
   "cell_type": "code",
   "execution_count": null,
   "metadata": {
    "collapsed": true
   },
   "outputs": [],
   "source": []
  }
 ],
 "metadata": {
  "kernelspec": {
   "display_name": "Python 3",
   "language": "python",
   "name": "python3"
  },
  "language_info": {
   "codemirror_mode": {
    "name": "ipython",
    "version": 3
   },
   "file_extension": ".py",
   "mimetype": "text/x-python",
   "name": "python",
   "nbconvert_exporter": "python",
   "pygments_lexer": "ipython3",
   "version": "3.6.2"
  }
 },
 "nbformat": 4,
 "nbformat_minor": 2
}
