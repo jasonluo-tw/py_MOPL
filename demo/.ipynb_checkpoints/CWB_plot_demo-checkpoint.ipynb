{
 "cells": [
  {
   "cell_type": "code",
   "execution_count": null,
   "metadata": {},
   "outputs": [],
   "source": [
    "import requests\n",
    "from urllib.parse import quote, unquote ## use to quote or unquote the string in URL\n",
    "from bs4 import BeautifulSoup\n",
    "import pandas as pd\n",
    "import numpy as np\n",
    "import matplotlib.pyplot as plt\n",
    "#plt.rcParams['font.family']=['DFKai-SB']\n",
    "%matplotlib inline"
   ]
  },
  {
   "cell_type": "code",
   "execution_count": null,
   "metadata": {},
   "outputs": [],
   "source": [
    "def is_number(s):\n",
    "    try:\n",
    "        float(s)\n",
    "        return float(s)\n",
    "    except ValueError:\n",
    "        return np.nan"
   ]
  },
  {
   "cell_type": "code",
   "execution_count": null,
   "metadata": {},
   "outputs": [],
   "source": [
    "station = ''\n",
    "sta_dicts = {'466910': '鞍部', '466920': '台北', 'C0AC70': '信義', '467490': '台中', '467440': '高雄'}\n",
    "\n",
    "def plot_time_choose(values, sta_now):\n",
    "    global station\n",
    "    global df, tdate\n",
    "    if sta_now != station:\n",
    "        BaseURL = 'https://e-service.cwb.gov.tw/HistoryDataQuery/DayDataController.do?'\n",
    "        ###\n",
    "        quoted_ = quote(sta_dicts[sta_now]).split('%')\n",
    "        quoted_ = '%25'.join(quoted_)\n",
    "        query = f'command=viewMain&station={sta_now}&stname={quoted_}&datepicker=2021-10-16'\n",
    "        ###\n",
    "        res = requests.get(BaseURL + query)\n",
    "        res.encoding = 'utf-8'\n",
    "        print(\"encoding: %s\" % res.encoding)\n",
    "\n",
    "        A = res.text\n",
    "        soup = BeautifulSoup(A,'html.parser')\n",
    "        srcs = soup.select(\"table#MyTable\")\n",
    "        df = pd.read_html(str(srcs[0]))[0] #[['Unnamed: 0_level_0', 'temperature', 'RH', 'Precp', 'Press']]\n",
    "        df.columns = df.columns.droplevel([0, 1])\n",
    "        df = df.applymap(is_number)\n",
    "        #print(df)\n",
    "        df['ObsTime'] = df['ObsTime'].map(lambda x: f'{tdate}-{int(x)-1:02d}')\n",
    "        df['ObsTime'] = pd.to_datetime(df['ObsTime'], format='%Y-%m-%d-%H')\n",
    "        df = df.set_index('ObsTime')\n",
    "        ### \n",
    "        station = sta_now\n",
    "    \n",
    "    ## Start to plot\n",
    "    data_to_plot = df[['StnPres', 'Temperature', 'Precp']].copy()\n",
    "    start = values[0]\n",
    "    end = values[1]\n",
    "    print(start, end)\n",
    "    try:\n",
    "        cc = data_to_plot.iloc[int(start):int(end)]\n",
    "        cc.plot(subplots=True, figsize=(10, 6))\n",
    "        #plt.title(tdate)\n",
    "        plt.xticks(rotation=45)\n",
    "        plt.show()\n",
    "    except:\n",
    "        print('end is smaller than start or equal to start, or no numerical to plot')\n"
   ]
  },
  {
   "cell_type": "code",
   "execution_count": null,
   "metadata": {},
   "outputs": [],
   "source": [
    "import ipywidgets as widgets\n",
    "tdate = '2021-10-16'\n",
    "widgets.interact(plot_time_choose,\n",
    "    values = widgets.IntRangeSlider(value=[0, 24], min=0, max=24, step=1,\n",
    "    description='Range:', disabled=False, continuous_update=True, orientation='horizontal'),\n",
    "                \n",
    "    sta_now = widgets.Dropdown(options={'鞍部': '466910', '台北': '466920', '信義': 'C0AC70', '台中': '467490', '高雄': '467440'}, \n",
    "                               value='466920', description='測站:', disabled=False)\n",
    ")"
   ]
  },
  {
   "cell_type": "code",
   "execution_count": null,
   "metadata": {},
   "outputs": [],
   "source": []
  }
 ],
 "metadata": {
  "kernelspec": {
   "display_name": "Python 3 (ipykernel)",
   "language": "python",
   "name": "python3"
  },
  "language_info": {
   "codemirror_mode": {
    "name": "ipython",
    "version": 3
   },
   "file_extension": ".py",
   "mimetype": "text/x-python",
   "name": "python",
   "nbconvert_exporter": "python",
   "pygments_lexer": "ipython3",
   "version": "3.8.6"
  }
 },
 "nbformat": 4,
 "nbformat_minor": 2
}
