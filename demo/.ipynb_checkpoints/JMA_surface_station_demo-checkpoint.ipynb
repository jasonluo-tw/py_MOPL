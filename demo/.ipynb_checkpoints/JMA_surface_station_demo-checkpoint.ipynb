{
 "cells": [
  {
   "cell_type": "code",
   "execution_count": 1,
   "metadata": {},
   "outputs": [],
   "source": [
    "import requests\n",
    "from bs4 import BeautifulSoup\n",
    "import pandas as pd\n",
    "import matplotlib.pyplot as plt"
   ]
  },
  {
   "cell_type": "code",
   "execution_count": 2,
   "metadata": {},
   "outputs": [
    {
     "name": "stdout",
     "output_type": "stream",
     "text": [
      "encoding: utf-8\n"
     ]
    }
   ],
   "source": [
    "BaseURL = 'http://www.data.jma.go.jp/obd/stats/etrn/view/10min_s1.php?prec_no=91&block_no=47917&year=2008&month=09&day=28&view='\n",
    "res = requests.get(BaseURL)\n",
    "res.encoding = 'utf-8'\n",
    "print(\"encoding: %s\" % res.encoding)"
   ]
  },
  {
   "cell_type": "code",
   "execution_count": 3,
   "metadata": {},
   "outputs": [],
   "source": [
    "A = res.text\n",
    "soup = BeautifulSoup(A,'html.parser')\n",
    "srcs = soup.select(\"#tablefix1 td.data_0_0\")"
   ]
  },
  {
   "cell_type": "code",
   "execution_count": 4,
   "metadata": {},
   "outputs": [],
   "source": [
    "data = []\n",
    "k = -1\n",
    "for index, tds in enumerate(srcs):\n",
    "    if (index+1)%10 == 1:\n",
    "        data.append([])\n",
    "        k += 1\n",
    "    data[k].append(tds.get_text())"
   ]
  },
  {
   "cell_type": "code",
   "execution_count": 5,
   "metadata": {},
   "outputs": [],
   "source": [
    "rng = pd.date_range('00:10 28/9/2008', periods=24*6, freq='10Min')"
   ]
  },
  {
   "cell_type": "code",
   "execution_count": 6,
   "metadata": {},
   "outputs": [],
   "source": [
    "datas = pd.DataFrame(data,columns = ['地面氣壓', '海面', '降水量', '氣溫', '相對溼度', '平均風','風向','最大瞬間','風向','日照'], index=rng)"
   ]
  },
  {
   "cell_type": "code",
   "execution_count": 10,
   "metadata": {},
   "outputs": [],
   "source": [
    "datas = datas.replace('--',-1000)\n",
    "datas.to_csv('JMA_station.csv')\n",
    "datas2 = datas[['地面氣壓','氣溫','降水量']].astype('float')"
   ]
  },
  {
   "cell_type": "code",
   "execution_count": 11,
   "metadata": {
    "scrolled": true
   },
   "outputs": [
    {
     "data": {
      "text/plain": [
       "<Figure size 720x480 with 0 Axes>"
      ]
     },
     "metadata": {},
     "output_type": "display_data"
    },
    {
     "name": "stderr",
     "output_type": "stream",
     "text": [
      "findfont: Font family ['DFKai-SB'] not found. Falling back to DejaVu Sans.\n",
      "/opt/homebrew/Caskroom/miniforge/base/lib/python3.8/site-packages/matplotlib/backends/backend_agg.py:238: RuntimeWarning: Glyph 22320 missing from current font.\n",
      "  font.set_text(s, 0.0, flags=flags)\n",
      "/opt/homebrew/Caskroom/miniforge/base/lib/python3.8/site-packages/matplotlib/backends/backend_agg.py:238: RuntimeWarning: Glyph 38754 missing from current font.\n",
      "  font.set_text(s, 0.0, flags=flags)\n",
      "/opt/homebrew/Caskroom/miniforge/base/lib/python3.8/site-packages/matplotlib/backends/backend_agg.py:238: RuntimeWarning: Glyph 27683 missing from current font.\n",
      "  font.set_text(s, 0.0, flags=flags)\n",
      "/opt/homebrew/Caskroom/miniforge/base/lib/python3.8/site-packages/matplotlib/backends/backend_agg.py:238: RuntimeWarning: Glyph 22739 missing from current font.\n",
      "  font.set_text(s, 0.0, flags=flags)\n",
      "/opt/homebrew/Caskroom/miniforge/base/lib/python3.8/site-packages/matplotlib/backends/backend_agg.py:238: RuntimeWarning: Glyph 28331 missing from current font.\n",
      "  font.set_text(s, 0.0, flags=flags)\n",
      "/opt/homebrew/Caskroom/miniforge/base/lib/python3.8/site-packages/matplotlib/backends/backend_agg.py:238: RuntimeWarning: Glyph 38477 missing from current font.\n",
      "  font.set_text(s, 0.0, flags=flags)\n",
      "/opt/homebrew/Caskroom/miniforge/base/lib/python3.8/site-packages/matplotlib/backends/backend_agg.py:238: RuntimeWarning: Glyph 27700 missing from current font.\n",
      "  font.set_text(s, 0.0, flags=flags)\n",
      "/opt/homebrew/Caskroom/miniforge/base/lib/python3.8/site-packages/matplotlib/backends/backend_agg.py:238: RuntimeWarning: Glyph 37327 missing from current font.\n",
      "  font.set_text(s, 0.0, flags=flags)\n",
      "/opt/homebrew/Caskroom/miniforge/base/lib/python3.8/site-packages/matplotlib/backends/backend_agg.py:201: RuntimeWarning: Glyph 22320 missing from current font.\n",
      "  font.set_text(s, 0, flags=flags)\n",
      "/opt/homebrew/Caskroom/miniforge/base/lib/python3.8/site-packages/matplotlib/backends/backend_agg.py:201: RuntimeWarning: Glyph 38754 missing from current font.\n",
      "  font.set_text(s, 0, flags=flags)\n",
      "/opt/homebrew/Caskroom/miniforge/base/lib/python3.8/site-packages/matplotlib/backends/backend_agg.py:201: RuntimeWarning: Glyph 27683 missing from current font.\n",
      "  font.set_text(s, 0, flags=flags)\n",
      "/opt/homebrew/Caskroom/miniforge/base/lib/python3.8/site-packages/matplotlib/backends/backend_agg.py:201: RuntimeWarning: Glyph 22739 missing from current font.\n",
      "  font.set_text(s, 0, flags=flags)\n",
      "/opt/homebrew/Caskroom/miniforge/base/lib/python3.8/site-packages/matplotlib/backends/backend_agg.py:201: RuntimeWarning: Glyph 28331 missing from current font.\n",
      "  font.set_text(s, 0, flags=flags)\n",
      "/opt/homebrew/Caskroom/miniforge/base/lib/python3.8/site-packages/matplotlib/backends/backend_agg.py:201: RuntimeWarning: Glyph 38477 missing from current font.\n",
      "  font.set_text(s, 0, flags=flags)\n",
      "/opt/homebrew/Caskroom/miniforge/base/lib/python3.8/site-packages/matplotlib/backends/backend_agg.py:201: RuntimeWarning: Glyph 27700 missing from current font.\n",
      "  font.set_text(s, 0, flags=flags)\n",
      "/opt/homebrew/Caskroom/miniforge/base/lib/python3.8/site-packages/matplotlib/backends/backend_agg.py:201: RuntimeWarning: Glyph 37327 missing from current font.\n",
      "  font.set_text(s, 0, flags=flags)\n"
     ]
    },
    {
     "data": {
      "image/png": "[encoded data removed]",
      "text/plain": [
       "<Figure size 432x288 with 3 Axes>"
      ]
     },
     "metadata": {
      "needs_background": "light"
     },
     "output_type": "display_data"
    }
   ],
   "source": [
    "plt.rcParams['font.family']=['DFKai-SB']\n",
    "plt.figure(dpi=120)\n",
    "datas2['2008-9-28-00':'2008-9-28-12'].plot(subplots=True)\n",
    "plt.show()"
   ]
  },
  {
   "cell_type": "code",
   "execution_count": null,
   "metadata": {},
   "outputs": [],
   "source": []
  }
 ],
 "metadata": {
  "kernelspec": {
   "display_name": "Python 3 (ipykernel)",
   "language": "python",
   "name": "python3"
  },
  "language_info": {
   "codemirror_mode": {
    "name": "ipython",
    "version": 3
   },
   "file_extension": ".py",
   "mimetype": "text/x-python",
   "name": "python",
   "nbconvert_exporter": "python",
   "pygments_lexer": "ipython3",
   "version": "3.8.6"
  }
 },
 "nbformat": 4,
 "nbformat_minor": 2
}
